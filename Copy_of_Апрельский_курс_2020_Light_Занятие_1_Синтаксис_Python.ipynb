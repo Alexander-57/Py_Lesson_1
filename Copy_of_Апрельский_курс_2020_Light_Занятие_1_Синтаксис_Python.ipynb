{
  "nbformat": 4,
  "nbformat_minor": 0,
  "metadata": {
    "kernelspec": {
      "display_name": "Python 3",
      "language": "python",
      "name": "python3"
    },
    "language_info": {
      "codemirror_mode": {
        "name": "ipython",
        "version": 3
      },
      "file_extension": ".py",
      "mimetype": "text/x-python",
      "name": "python",
      "nbconvert_exporter": "python",
      "pygments_lexer": "ipython3",
      "version": "3.6.8"
    },
    "colab": {
      "name": "Copy of Апрельский курс 2020. Light. Занятие 1. Синтаксис Python",
      "provenance": [],
      "collapsed_sections": [],
      "include_colab_link": true
    }
  },
  "cells": [
    {
      "cell_type": "markdown",
      "metadata": {
        "id": "view-in-github",
        "colab_type": "text"
      },
      "source": [
        "<a href=\"https://colab.research.google.com/github/Alexander-57/Py_Lesson_1/blob/master/Copy_of_%D0%90%D0%BF%D1%80%D0%B5%D0%BB%D1%8C%D1%81%D0%BA%D0%B8%D0%B9_%D0%BA%D1%83%D1%80%D1%81_2020_Light_%D0%97%D0%B0%D0%BD%D1%8F%D1%82%D0%B8%D0%B5_1_%D0%A1%D0%B8%D0%BD%D1%82%D0%B0%D0%BA%D1%81%D0%B8%D1%81_Python.ipynb\" target=\"_parent\"><img src=\"https://colab.research.google.com/assets/colab-badge.svg\" alt=\"Open In Colab\"/></a>"
      ]
    },
    {
      "cell_type": "markdown",
      "metadata": {
        "id": "3mH4lbPCgwL6",
        "colab_type": "text"
      },
      "source": [
        "# Основы Python \n",
        "\n",
        "Для прикладных целей важно овладеть несколькими аспектами:\n",
        "\n",
        "- Стандартные функции языка\n",
        "- Переменные и типы данных\n",
        "- Основные конструкции\n",
        "- Написание пользовательских функций\n",
        "- Загрузка и использование библиотек"
      ]
    },
    {
      "cell_type": "markdown",
      "metadata": {
        "id": "eXjmiQJCgwMC",
        "colab_type": "text"
      },
      "source": [
        "## Стандартные функции языка\n",
        "\n",
        "Функции - это маленькие программки, которые умеют выполнять какую-то операцию. <br />\n",
        "Функции <b>вызываются</b>, после имени функции следуют круглые скобки, в которых указываются <b>аргументы</b> (над каким объектом будет выполнена операция) и <b>параметры </b> (с какими условиями)."
      ]
    },
    {
      "cell_type": "markdown",
      "metadata": {
        "id": "DWpeBni2gwMF",
        "colab_type": "text"
      },
      "source": [
        "### print()\n",
        "\n",
        "Функция для вывода содержимого на экран. <br>\n",
        "**Обязательно** передать хотя бы какой-то объект, который нужно напечатать.\n",
        "\n",
        "Ее полный синтаксис:\n",
        "\n",
        "print(*objects, sep=' ', end='\\n', file=sys.stdout, flush=False)¶\n",
        "- objects: один или несколько объектов для вывода, перечисленные через запятую\n",
        "- sep: разделитель между несколькими объектами; стандартно установлен пробел\n",
        "- end: окончание строки; стандартно установлен перевод на новую строчку '\\n'"
      ]
    },
    {
      "cell_type": "code",
      "metadata": {
        "id": "ZBcwztmQgwML",
        "colab_type": "code",
        "outputId": "beb8f69d-dd68-411d-c7d3-4a1d953724d7",
        "colab": {
          "base_uri": "https://localhost:8080/",
          "height": 34
        }
      },
      "source": [
        "print(4) # Вызываем функцию print и в скобках передаем ей параметр, который требуется напечатать"
      ],
      "execution_count": 0,
      "outputs": [
        {
          "output_type": "stream",
          "text": [
            "4\n"
          ],
          "name": "stdout"
        }
      ]
    },
    {
      "cell_type": "code",
      "metadata": {
        "id": "oMadMtROgwMf",
        "colab_type": "code",
        "colab": {}
      },
      "source": [
        "print?"
      ],
      "execution_count": 0,
      "outputs": []
    },
    {
      "cell_type": "code",
      "metadata": {
        "id": "DZTqDs3egwMv",
        "colab_type": "code",
        "outputId": "34b70e74-7872-4be7-aeea-e48ace949dc8",
        "colab": {
          "base_uri": "https://localhost:8080/",
          "height": 34
        }
      },
      "source": [
        "print(5,6,7,8) # Вызываем функцию print и в скобках передаем ей набор параметров, который требуется напечатать"
      ],
      "execution_count": 0,
      "outputs": [
        {
          "output_type": "stream",
          "text": [
            "5 6 7 8\n"
          ],
          "name": "stdout"
        }
      ]
    },
    {
      "cell_type": "code",
      "metadata": {
        "id": "WpxbyEEZgwNA",
        "colab_type": "code",
        "outputId": "9cbbdcdf-4263-4b93-d542-d0cafbb242cb",
        "colab": {
          "base_uri": "https://localhost:8080/",
          "height": 34
        }
      },
      "source": [
        "print(5, 6, 7, 8, sep='_') # Вызываем функцию print, в скобках передаем ей набор параметров и разделтель между ними"
      ],
      "execution_count": 0,
      "outputs": [
        {
          "output_type": "stream",
          "text": [
            "5_6_7_8\n"
          ],
          "name": "stdout"
        }
      ]
    },
    {
      "cell_type": "code",
      "metadata": {
        "id": "Zf3QuweTgwNS",
        "colab_type": "code",
        "outputId": "88f4d852-fe62-4d1c-add4-65338bab5a52",
        "colab": {
          "base_uri": "https://localhost:8080/",
          "height": 34
        }
      },
      "source": [
        "print(\"Май\") # Вызываем функцию print и в скобках передаем ей параметр, который требуется напечатать (в данном случае печатаем текстовую информацию)"
      ],
      "execution_count": 0,
      "outputs": [
        {
          "output_type": "stream",
          "text": [
            "Май\n"
          ],
          "name": "stdout"
        }
      ]
    },
    {
      "cell_type": "code",
      "metadata": {
        "id": "YQGzrhTwgwNj",
        "colab_type": "code",
        "outputId": "174f527b-4d0d-44f4-cfb4-759c67b63c6b",
        "colab": {
          "base_uri": "https://localhost:8080/",
          "height": 34
        }
      },
      "source": [
        "print('Переменная равна: {}'.format(5)) # Вызываем функцию print, которая использует функцию format для подстановки значения"
      ],
      "execution_count": 0,
      "outputs": [
        {
          "output_type": "stream",
          "text": [
            "Переменная равна: 5\n"
          ],
          "name": "stdout"
        }
      ]
    },
    {
      "cell_type": "code",
      "metadata": {
        "id": "8MAZFjLBKsyo",
        "colab_type": "code",
        "outputId": "f298591d-d663-40b7-dcd3-73c6905b0dec",
        "colab": {
          "base_uri": "https://localhost:8080/",
          "height": 34
        }
      },
      "source": [
        "print('Переменная равна:',5) # Альтернативный вариант печати информации из предыдущего пункта"
      ],
      "execution_count": 0,
      "outputs": [
        {
          "output_type": "stream",
          "text": [
            "Переменная равна: 5\n"
          ],
          "name": "stdout"
        }
      ]
    },
    {
      "cell_type": "code",
      "metadata": {
        "id": "ak0ByW9pK3ON",
        "colab_type": "code",
        "outputId": "bac92a91-7d61-47c4-85f8-5c7b57bb9006",
        "colab": {
          "base_uri": "https://localhost:8080/",
          "height": 34
        }
      },
      "source": [
        "print('Переменная равна: {} и вторая переменная равна: {}'.format(5, 7)) # Вызываем функцию print, которая использует функцию format для подстановки двух значений"
      ],
      "execution_count": 0,
      "outputs": [
        {
          "output_type": "stream",
          "text": [
            "Переменная равна: 5 и вторая переменная равна: 7\n"
          ],
          "name": "stdout"
        }
      ]
    },
    {
      "cell_type": "code",
      "metadata": {
        "id": "QzE2VR0IK8mX",
        "colab_type": "code",
        "outputId": "5a65b4ab-dca0-48ca-d104-0b22ce5b3edd",
        "colab": {
          "base_uri": "https://localhost:8080/",
          "height": 34
        }
      },
      "source": [
        "print('Переменная равна: {} и вторая переменная равна: {}'.format(5.123, 7.9384950)) # Альтернативный вариант печати информации из предыдущего пункта"
      ],
      "execution_count": 0,
      "outputs": [
        {
          "output_type": "stream",
          "text": [
            "Переменная равна: 5.123 и вторая переменная равна: 7.938495\n"
          ],
          "name": "stdout"
        }
      ]
    },
    {
      "cell_type": "code",
      "metadata": {
        "id": "3imScjy0wvX9",
        "colab_type": "code",
        "outputId": "05457bf1-401d-469e-97ce-d276a9f1a786",
        "colab": {
          "base_uri": "https://localhost:8080/",
          "height": 34
        }
      },
      "source": [
        "print('Переменная равна: {:.1f} и вторая переменная равна: {:.3f}'.format(5.123, 7.9384950)) # Пример округления чисел с помощью функции format"
      ],
      "execution_count": 0,
      "outputs": [
        {
          "output_type": "stream",
          "text": [
            "Переменная равна: 5.1 и вторая переменная равна: 7.938\n"
          ],
          "name": "stdout"
        }
      ]
    },
    {
      "cell_type": "markdown",
      "metadata": {
        "id": "AX_KsdJHgwN6",
        "colab_type": "text"
      },
      "source": [
        "#### Задача 1\n",
        "\n",
        "Выведите на экран фразу \"Hello, world!\""
      ]
    },
    {
      "cell_type": "code",
      "metadata": {
        "id": "Q6Urwmq9gwOL",
        "colab_type": "code",
        "outputId": "8dcff081-6440-4129-9995-5968e443e0b5",
        "colab": {
          "base_uri": "https://localhost:8080/",
          "height": 34
        }
      },
      "source": [
        "# Решение задачи с помощью функции print\n",
        "print('Hello, world!')"
      ],
      "execution_count": 0,
      "outputs": [
        {
          "output_type": "stream",
          "text": [
            "Hello, world!\n"
          ],
          "name": "stdout"
        }
      ]
    },
    {
      "cell_type": "markdown",
      "metadata": {
        "id": "FPmCE5oMgwPN",
        "colab_type": "text"
      },
      "source": [
        "### Арифметические операции\n",
        "\n",
        "\n",
        "- Сложение: +\n",
        "- Вычитание: -\n",
        "- Умножение: *\n",
        "- Деление: /\n",
        "- Возведение в степень: **\n",
        "- Целочисленное деление: //\n",
        "- Остаток от деления: %"
      ]
    },
    {
      "cell_type": "code",
      "metadata": {
        "id": "lzqViGqYgwPR",
        "colab_type": "code",
        "outputId": "0c84b31f-1669-44ef-de76-ffe0a82e5221",
        "colab": {
          "base_uri": "https://localhost:8080/",
          "height": 151
        }
      },
      "source": [
        "print('Работаем с числами', 5, 'и', 2) # Вызываем функцию print для печати сообщения \n",
        "print(5 + 2) # Вызываем функцию print, которая выведет результат сложения 5 и 2\n",
        "print(5 - 2) # Вызываем функцию print, которая выведет разность 5 и 2\n",
        "print(5 * 2) # Вызываем функцию print, которая выведет произведение 5 и 2\n",
        "print(5 / 2) # Вызываем функцию print, которая выведет частное 5 и 2\n",
        "print(5 // 2) # Вызываем функцию print, которая выведет результат целочисленного деления 5 на 2\n",
        "print('Результат остатка от деления:', 5 % 2) # Вызываем функцию print, которая выведет остаток от деления 5 на 2\n",
        "print('Результат возведения в степени:', 5 ** 2) # Вызываем функцию print, которая выведет результат возведения в квадрат числа 5"
      ],
      "execution_count": 0,
      "outputs": [
        {
          "output_type": "stream",
          "text": [
            "Работаем с числами 5 и 2\n",
            "7\n",
            "3\n",
            "10\n",
            "2.5\n",
            "2\n",
            "Результат остатка от деления: 1\n",
            "Результат возведения в степени: 25\n"
          ],
          "name": "stdout"
        }
      ]
    },
    {
      "cell_type": "markdown",
      "metadata": {
        "id": "HWG-xiikgwPl",
        "colab_type": "text"
      },
      "source": [
        "Для выведения результата на экран не обязательно прописывать print(), можно просто выполнить ячейку, при этом отобразится результат только последней строчки кода:"
      ]
    },
    {
      "cell_type": "code",
      "metadata": {
        "id": "Em4g2ATNgwPs",
        "colab_type": "code",
        "outputId": "3b068c6e-2293-4d4d-b7c8-72231695deb8",
        "colab": {
          "base_uri": "https://localhost:8080/",
          "height": 34
        }
      },
      "source": [
        "5 + 2 # Складываем 5 и 2"
      ],
      "execution_count": 0,
      "outputs": [
        {
          "output_type": "execute_result",
          "data": {
            "text/plain": [
              "7"
            ]
          },
          "metadata": {
            "tags": []
          },
          "execution_count": 20
        }
      ]
    },
    {
      "cell_type": "code",
      "metadata": {
        "id": "WHo3fT33gwQE",
        "colab_type": "code",
        "outputId": "e2acc514-99db-48f0-c3cd-ebd8268c7ba0",
        "colab": {
          "base_uri": "https://localhost:8080/",
          "height": 34
        }
      },
      "source": [
        "5 + 2 # Складываем 5 и 2\n",
        "5 * 2 # Умножаем 5 на 2"
      ],
      "execution_count": 0,
      "outputs": [
        {
          "output_type": "execute_result",
          "data": {
            "text/plain": [
              "10"
            ]
          },
          "metadata": {
            "tags": []
          },
          "execution_count": 21
        }
      ]
    },
    {
      "cell_type": "code",
      "metadata": {
        "id": "3zpgs4QcgwQV",
        "colab_type": "code",
        "outputId": "e345a651-f16e-4d64-e91f-e28ffd6872c3",
        "colab": {
          "base_uri": "https://localhost:8080/",
          "height": 50
        }
      },
      "source": [
        "print(5 + 2) # Вызываем функцию print, которая выведет результат сложения 5 и 2\n",
        "5 * 2 # Умножаем 5 на 2"
      ],
      "execution_count": 0,
      "outputs": [
        {
          "output_type": "stream",
          "text": [
            "7\n"
          ],
          "name": "stdout"
        },
        {
          "output_type": "execute_result",
          "data": {
            "text/plain": [
              "10"
            ]
          },
          "metadata": {
            "tags": []
          },
          "execution_count": 22
        }
      ]
    },
    {
      "cell_type": "code",
      "metadata": {
        "id": "vOuFjU_bgwQo",
        "colab_type": "code",
        "outputId": "981979c2-19fc-44f0-d113-8af218e12b3a",
        "colab": {
          "base_uri": "https://localhost:8080/",
          "height": 50
        }
      },
      "source": [
        "print(5 + 2) # Вызываем функцию print, которая выведет результат сложения 5 и 2\n",
        "print(5 * 2) # Вызываем функцию print, которая выведет произведение 5 и 2"
      ],
      "execution_count": 0,
      "outputs": [
        {
          "output_type": "stream",
          "text": [
            "7\n",
            "10\n"
          ],
          "name": "stdout"
        }
      ]
    },
    {
      "cell_type": "markdown",
      "metadata": {
        "id": "rl1kGggfgwQ4",
        "colab_type": "text"
      },
      "source": [
        "#### Задача 2\n",
        "\n",
        "Найти площадь круга с радиусом $R = 5$. Подсказка: площадь круга вычисляется по формуле $S = \\pi * R^2, \\pi$ ~ 3.14"
      ]
    },
    {
      "cell_type": "code",
      "metadata": {
        "id": "BC0TxE7GgwQ_",
        "colab_type": "code",
        "outputId": "d2eab92e-916e-4ed5-b842-d36ec8984490",
        "colab": {
          "base_uri": "https://localhost:8080/",
          "height": 34
        }
      },
      "source": [
        "# Решение задачи\n",
        "print('Площадь круга равна:', 3.14 * (5**2))"
      ],
      "execution_count": 0,
      "outputs": [
        {
          "output_type": "stream",
          "text": [
            "Площадь круга равна: 78.5\n"
          ],
          "name": "stdout"
        }
      ]
    },
    {
      "cell_type": "markdown",
      "metadata": {
        "id": "qbpPCdLXgwRN",
        "colab_type": "text"
      },
      "source": [
        "### Переменные и типы переменных\n",
        "\n",
        "\n",
        "Результаты операций и манипуляций иногда нужно сохранять, поэтому мы определяем переменные - именованные объекты, которым присваиваем значения. "
      ]
    },
    {
      "cell_type": "code",
      "metadata": {
        "id": "eTMoHu16gwRT",
        "colab_type": "code",
        "colab": {}
      },
      "source": [
        "# Задаем значения переменных\n",
        "S = 100 # Создаем переменную S и присваиваем ей значение 100\n",
        "pi_ = 3.14 # Создаем переменную pi_  и присваиваем ей значение 3.14"
      ],
      "execution_count": 0,
      "outputs": []
    },
    {
      "cell_type": "code",
      "metadata": {
        "id": "qDrMoGpsmazH",
        "colab_type": "code",
        "colab": {}
      },
      "source": [
        "r = (S / pi_) ** (0.5) # Создаем переменную r и присваиваем ей значение, которое получается в  результате (S / pi_) ** (0.5)"
      ],
      "execution_count": 0,
      "outputs": []
    },
    {
      "cell_type": "code",
      "metadata": {
        "id": "2MRHng15gwRd",
        "colab_type": "code",
        "outputId": "ee7304cd-2780-44d4-b858-859b3ccb57a6",
        "colab": {
          "base_uri": "https://localhost:8080/",
          "height": 34
        }
      },
      "source": [
        "print('r', round(r,2), sep='=')  # Вызываем функцию print, которая выведет переменную r, округленную до двух знаков после запятой"
      ],
      "execution_count": 0,
      "outputs": [
        {
          "output_type": "stream",
          "text": [
            "r=5.64\n"
          ],
          "name": "stdout"
        }
      ]
    },
    {
      "cell_type": "markdown",
      "metadata": {
        "id": "YNvnYZDqgwRt",
        "colab_type": "text"
      },
      "source": [
        "#### Задача 3\n",
        "\n",
        "Найти площадь круга с радиусом $R = 5$. Подсказка: площадь круга вычисляется по формуле $S = \\pi * R^2, \\pi$ ~ 3.14\n",
        "\n",
        "- Создайте переменную r со значением 5\n",
        "- Создайте переменную pi_ со значением 3.14\n",
        "- Сохраните результат вычисления в переменную S\n",
        "- Выведите на печать результаты"
      ]
    },
    {
      "cell_type": "code",
      "metadata": {
        "id": "cQSPW3pqgwR0",
        "colab_type": "code",
        "outputId": "466f18fb-d326-4949-93e1-3482bd7f9a78",
        "colab": {
          "base_uri": "https://localhost:8080/",
          "height": 34
        }
      },
      "source": [
        "# Решение задачи\n",
        "r = 5\n",
        "pi_ = 3.14\n",
        "S = pi_ * r ** 2\n",
        "print ('Площадь круга равна:', round(S,2))"
      ],
      "execution_count": 2,
      "outputs": [
        {
          "output_type": "stream",
          "text": [
            "Площадь круга равна: 78.5\n"
          ],
          "name": "stdout"
        }
      ]
    },
    {
      "cell_type": "markdown",
      "metadata": {
        "id": "BDS_hmbhgwOk",
        "colab_type": "text"
      },
      "source": [
        "### input()\n",
        "\n",
        "Функция для ввода данных в программу с клавиатуры. <br>\n",
        "Обязательных аргументов нет. Можно передавать строчку, которая будет выведена перед ячейкой ввода. "
      ]
    },
    {
      "cell_type": "code",
      "metadata": {
        "id": "0YgIuroCgwOp",
        "colab_type": "code",
        "outputId": "0c96859b-8048-4e0a-a6ad-647140cc2c7c",
        "colab": {
          "base_uri": "https://localhost:8080/",
          "height": 50
        }
      },
      "source": [
        "name = input() # Вызываем функцию input, которая позволяет вводить данные с клавиатуры и записываем введенные данные в переменную name\n",
        "print('Меня зовут ', name) # Вызываем функцию print, которая выведет значение переменной name"
      ],
      "execution_count": 0,
      "outputs": [
        {
          "output_type": "stream",
          "text": [
            "Вася\n",
            "Меня зовут  Вася\n"
          ],
          "name": "stdout"
        }
      ]
    },
    {
      "cell_type": "markdown",
      "metadata": {
        "id": "Asnp0MjxgwO3",
        "colab_type": "text"
      },
      "source": [
        "А здесь небольшое преобразование позволит вывести перед ячейкой ввода нужный текст."
      ]
    },
    {
      "cell_type": "code",
      "metadata": {
        "id": "id69vPyigwO8",
        "colab_type": "code",
        "outputId": "c2f47bbd-677e-466e-c0c3-529ded9a2fce",
        "colab": {
          "base_uri": "https://localhost:8080/",
          "height": 50
        }
      },
      "source": [
        "name = input('Введите ваше имя: ') # Вызываем функцию input с приветственным сообщением, которая позволяет вводить данные с клавиатуры и записываем введенные данные в переменную name\n",
        "print('Меня зовут ', name) # Вызываем функцию print, которая выведет значение переменной name"
      ],
      "execution_count": 0,
      "outputs": [
        {
          "output_type": "stream",
          "text": [
            "Введите ваше имя: Александр\n",
            "Меня зовут  Александр\n"
          ],
          "name": "stdout"
        }
      ]
    },
    {
      "cell_type": "markdown",
      "metadata": {
        "id": "fuSf1T6DgwR-",
        "colab_type": "text"
      },
      "source": [
        "### Основные типы данных:\n",
        "\n",
        "   \n",
        "- int (integer numbers) - целые числа\n",
        "- float (floating-point numbers) - числа с плавающей точкой\n",
        "- str (string) - строки\n",
        "- bool (boolean) - логический тип"
      ]
    },
    {
      "cell_type": "markdown",
      "metadata": {
        "id": "m6zDG1uTgwSB",
        "colab_type": "text"
      },
      "source": [
        "Функция **type** позволяет определить, какого типа переменная нам дана или какого типа переменную мы записали. "
      ]
    },
    {
      "cell_type": "code",
      "metadata": {
        "id": "TQ_XzJgggwSI",
        "colab_type": "code",
        "colab": {
          "base_uri": "https://localhost:8080/",
          "height": 50
        },
        "outputId": "e80b163f-1a50-4d4a-a459-981287a3b542"
      },
      "source": [
        "print(type(r)) # Вызываем функцию print, которая выведет тип переменной r\n",
        "print(type(S)) # Вызываем функцию print, которая выведет тип переменной S"
      ],
      "execution_count": 3,
      "outputs": [
        {
          "output_type": "stream",
          "text": [
            "<class 'int'>\n",
            "<class 'float'>\n"
          ],
          "name": "stdout"
        }
      ]
    },
    {
      "cell_type": "code",
      "metadata": {
        "id": "Jadp2DK0gwST",
        "colab_type": "code",
        "colab": {
          "base_uri": "https://localhost:8080/",
          "height": 34
        },
        "outputId": "a12139a3-4378-4c23-8099-66e9fb2ab3d1"
      },
      "source": [
        "text = 'Площадь круга' # Создаем переменную с именем text и присваиваем ей значение \"Площадь круга\"\n",
        "print(type(text)) # Вызываем функцию print, которая выведет тип переменной text"
      ],
      "execution_count": 4,
      "outputs": [
        {
          "output_type": "stream",
          "text": [
            "<class 'str'>\n"
          ],
          "name": "stdout"
        }
      ]
    },
    {
      "cell_type": "code",
      "metadata": {
        "id": "IfkU7m2qgwSg",
        "colab_type": "code",
        "colab": {
          "base_uri": "https://localhost:8080/",
          "height": 34
        },
        "outputId": "d18fffa3-5b6f-42ce-8d98-d48fa1ff3df8"
      },
      "source": [
        "x = True # Создаем переменную с именем x и присваиваем ей значение True\n",
        "print(type(x)) # Вызываем функцию print, которая выведет тип переменной x"
      ],
      "execution_count": 5,
      "outputs": [
        {
          "output_type": "stream",
          "text": [
            "<class 'bool'>\n"
          ],
          "name": "stdout"
        }
      ]
    },
    {
      "cell_type": "markdown",
      "metadata": {
        "id": "YfLVBd0SgwS6",
        "colab_type": "text"
      },
      "source": [
        "Если нужно поменять тип переменной, то полезны функции:\n",
        "\n",
        "- int() - возвращает целочисленную переменную\n",
        "- float() - возвращает нецелочисленную переменную\n",
        "- bool() - возвращает булеву переменную\n",
        "- str() - возвращает строковую переменную"
      ]
    },
    {
      "cell_type": "code",
      "metadata": {
        "id": "qD1wIW6wgwTQ",
        "colab_type": "code",
        "colab": {
          "base_uri": "https://localhost:8080/",
          "height": 67
        },
        "outputId": "515e1bac-8411-43db-bc88-ce31a3846277"
      },
      "source": [
        "print(r, type(r)) # Вызываем функцию print, которая выведет значение и тип переменной r\n",
        "r_new = str(r) # Создадим переменную r_new и запишем в нее значение переменной r, преобразованной к типу str (строковый)\n",
        "print(r_new, type(r_new)) # Вызываем функцию print, которая выведет значение и тип переменной r_new\n",
        "print('Радиус ' +  'круга: ' + r_new) # Вызываем функцию print, которая выведет радиус круга, записанный в переменной r_new"
      ],
      "execution_count": 6,
      "outputs": [
        {
          "output_type": "stream",
          "text": [
            "5 <class 'int'>\n",
            "5 <class 'str'>\n",
            "Радиус круга: 5\n"
          ],
          "name": "stdout"
        }
      ]
    },
    {
      "cell_type": "code",
      "metadata": {
        "id": "GoHqTdGEgwS8",
        "colab_type": "code",
        "colab": {
          "base_uri": "https://localhost:8080/",
          "height": 34
        },
        "outputId": "593cc021-66d5-4943-f955-6741a1b77b04"
      },
      "source": [
        "# Конкатенация строк\n",
        "conc = 'Мое имя' + ' ' + 'Дмитрий' # Создадим переменную conc и запишем в нее резуьтат конкатенации 3 текстовых значения\n",
        "print(conc) # Вызываем функцию print, которая выведет значение переменной conc"
      ],
      "execution_count": 7,
      "outputs": [
        {
          "output_type": "stream",
          "text": [
            "Мое имя Дмитрий\n"
          ],
          "name": "stdout"
        }
      ]
    },
    {
      "cell_type": "code",
      "metadata": {
        "id": "LwS-mDmPgwTp",
        "colab_type": "code",
        "colab": {
          "base_uri": "https://localhost:8080/",
          "height": 34
        },
        "outputId": "87037aa5-6c99-444b-a389-ef15ad34cdf4"
      },
      "source": [
        "print(10 - float(r_new)) # Вызываем функцию print, которая выведет разность 10 и переменной r_new, преобразованной к типу float"
      ],
      "execution_count": 8,
      "outputs": [
        {
          "output_type": "stream",
          "text": [
            "5.0\n"
          ],
          "name": "stdout"
        }
      ]
    },
    {
      "cell_type": "markdown",
      "metadata": {
        "id": "BSBHc5EIgwTz",
        "colab_type": "text"
      },
      "source": [
        "##  Базовые конструкции\n",
        "\n",
        "### Логические выражения \n",
        "\n",
        "\n",
        "По аналогии с арифметическими выражениями существуют логические выражения, которые могут быть истинными или ложными. Простое логическое выражение имеет вид <br /> \n",
        "\n",
        "<арифметическое выражение> <знак сравнения> <арифметическое выражение>. <br /> \n",
        "\n",
        "Например, если у нас есть переменные x и y с какими-то значениями, то логическое выражение <br /> x + y < 3y <br /> в качестве первого арифметического выражения имеет x + y, в качестве знака сравнения < (меньше), а второе арифметическое выражение в нём 3y.\n",
        "\n",
        "Логические выражения:\n",
        "- $<$   меньше\n",
        "- $>$  больше\n",
        "- $<=$  меньше или равно\n",
        "- $>=$  больше или равно\n",
        "- $==$  равно\n",
        "- $!=$  не равно"
      ]
    },
    {
      "cell_type": "code",
      "metadata": {
        "id": "a_TjqfuqgwT9",
        "colab_type": "code",
        "colab": {
          "base_uri": "https://localhost:8080/",
          "height": 34
        },
        "outputId": "159b3e4b-6f69-4d34-d5ed-77ff4d02ca65"
      },
      "source": [
        "2 != 3 # Проверяем на неравенство 2 и 3"
      ],
      "execution_count": 9,
      "outputs": [
        {
          "output_type": "execute_result",
          "data": {
            "text/plain": [
              "True"
            ]
          },
          "metadata": {
            "tags": []
          },
          "execution_count": 9
        }
      ]
    },
    {
      "cell_type": "code",
      "metadata": {
        "id": "MgiYJJ_-gwUI",
        "colab_type": "code",
        "colab": {
          "base_uri": "https://localhost:8080/",
          "height": 34
        },
        "outputId": "41de0faf-c4d7-48ad-c44e-236aa548aba2"
      },
      "source": [
        "a = 2 # Создаем переменную с именем a и присваиваем ей значение 2\n",
        "b = 3 # Создаем переменную с именем b и присваиваем ей значение 3\n",
        " \n",
        "a != b # Проверяем на неравенство переменные a и b"
      ],
      "execution_count": 10,
      "outputs": [
        {
          "output_type": "execute_result",
          "data": {
            "text/plain": [
              "True"
            ]
          },
          "metadata": {
            "tags": []
          },
          "execution_count": 10
        }
      ]
    },
    {
      "cell_type": "code",
      "metadata": {
        "id": "H2bG8VYIgwUT",
        "colab_type": "code",
        "colab": {
          "base_uri": "https://localhost:8080/",
          "height": 67
        },
        "outputId": "aef9ba21-99dd-4dee-ac91-79a5fac042db"
      },
      "source": [
        "x = 2 * 2 == 5 # Создаем переменную x и присваиваем ей результат выражения 2 * 2 == 5\n",
        "print(type(x)) # Вызываем функцию print, которая выведет тип переменной x\n",
        "print(x) # Вызываем функцию print, которая выведет значение переменной x\n",
        "print(int(x)) # Вызываем функцию print, которая выведет значение переменной x, преобразованной к типу int"
      ],
      "execution_count": 11,
      "outputs": [
        {
          "output_type": "stream",
          "text": [
            "<class 'bool'>\n",
            "False\n",
            "0\n"
          ],
          "name": "stdout"
        }
      ]
    },
    {
      "cell_type": "code",
      "metadata": {
        "id": "gvl1qTrHgwUd",
        "colab_type": "code",
        "colab": {
          "base_uri": "https://localhost:8080/",
          "height": 67
        },
        "outputId": "5c6ae4f3-4109-47e2-d2da-b2081797a48d"
      },
      "source": [
        "x = 2 * 2 != 5 # Создаем переменную x и присваиваем ей результат выражения 2 * 2 != 5\n",
        "print(type(x)) # Вызываем функцию print, которая выведет тип переменной x\n",
        "print(x) # Вызываем функцию print, которая выведет значение переменной x\n",
        "print(int(x)) # Вызываем функцию print, которая выведет значение переменной x, преобразованной к типу int"
      ],
      "execution_count": 12,
      "outputs": [
        {
          "output_type": "stream",
          "text": [
            "<class 'bool'>\n",
            "True\n",
            "1\n"
          ],
          "name": "stdout"
        }
      ]
    },
    {
      "cell_type": "markdown",
      "metadata": {
        "id": "75qI8JMIgwUo",
        "colab_type": "text"
      },
      "source": [
        "Чтобы записать сложное логическое выражение, часто бывает необходимо воспользоваться логическими связками \"и\", \"или\" и \"не\". В Питоне они обозначаются как and, or и not соответственно. Операции and и or являеются бинарными, т.е. должны быть записаны между операндами, например x < 3 or y > 2. Операция not - унарная и должна быть записана перед единственным своим операндом."
      ]
    },
    {
      "cell_type": "code",
      "metadata": {
        "id": "iAfGrehIgwUq",
        "colab_type": "code",
        "colab": {
          "base_uri": "https://localhost:8080/",
          "height": 67
        },
        "outputId": "e4895d03-3550-4ad8-a030-0c8b1426b375"
      },
      "source": [
        "x = 4 # Создаем переменную x и присваиваем ей значение 4\n",
        "y = 5 # Создаем переменную y и присваиваем ей значение 5\n",
        "print(x > 3 and y > 3) # Вызываем функцию print, которая выведет результат выражения (x > 3 and y > 3)\n",
        "print(x > y or x == y) # Вызываем функцию print, которая выведет результат выражения (x > y or x == y)\n",
        "print(not (x > y)) # Вызываем функцию print, которая выведет результат выражения (not (x > y))"
      ],
      "execution_count": 13,
      "outputs": [
        {
          "output_type": "stream",
          "text": [
            "True\n",
            "False\n",
            "True\n"
          ],
          "name": "stdout"
        }
      ]
    },
    {
      "cell_type": "code",
      "metadata": {
        "id": "yVFwyFkbgwU1",
        "colab_type": "code",
        "colab": {
          "base_uri": "https://localhost:8080/",
          "height": 34
        },
        "outputId": "cffe99bb-550e-4c60-dee8-ac1de724697e"
      },
      "source": [
        "a = 1 # Создаем переменную a и присваиваем ей значение 1\n",
        "b = 2 # Создаем переменную b и присваиваем ей значение 2\n",
        "c = 3 # Создаем переменную c и присваиваем ей значение 3\n",
        "d = 4 # Создаем переменную d и присваиваем ей значение 4\n",
        "\n",
        "((a == d) and (a > c)) != 4 # Считаем значение выражения"
      ],
      "execution_count": 14,
      "outputs": [
        {
          "output_type": "execute_result",
          "data": {
            "text/plain": [
              "True"
            ]
          },
          "metadata": {
            "tags": []
          },
          "execution_count": 14
        }
      ]
    },
    {
      "cell_type": "code",
      "metadata": {
        "id": "PHba8zUpgwU_",
        "colab_type": "code",
        "colab": {
          "base_uri": "https://localhost:8080/",
          "height": 34
        },
        "outputId": "15c7a113-835f-4128-f0b7-3fc1824fc74c"
      },
      "source": [
        "((False) and (False)) != 4 # Считаем значение выражения"
      ],
      "execution_count": 15,
      "outputs": [
        {
          "output_type": "execute_result",
          "data": {
            "text/plain": [
              "True"
            ]
          },
          "metadata": {
            "tags": []
          },
          "execution_count": 15
        }
      ]
    },
    {
      "cell_type": "code",
      "metadata": {
        "id": "l-Ut9t-JgwVI",
        "colab_type": "code",
        "colab": {
          "base_uri": "https://localhost:8080/",
          "height": 34
        },
        "outputId": "cf6041ef-9a01-4830-ecc3-f2d41bae9bf2"
      },
      "source": [
        "False != 4 # Проверяем на неравенство False и 4"
      ],
      "execution_count": 16,
      "outputs": [
        {
          "output_type": "execute_result",
          "data": {
            "text/plain": [
              "True"
            ]
          },
          "metadata": {
            "tags": []
          },
          "execution_count": 16
        }
      ]
    },
    {
      "cell_type": "markdown",
      "metadata": {
        "id": "IYcBpG-hgwVQ",
        "colab_type": "text"
      },
      "source": [
        "#### Задача 4\n",
        "\n",
        "Сравните $2^3$ и $3^2$. Результат распечатайте."
      ]
    },
    {
      "cell_type": "code",
      "metadata": {
        "id": "2Tsy5ctFgwVW",
        "colab_type": "code",
        "colab": {
          "base_uri": "https://localhost:8080/",
          "height": 84
        },
        "outputId": "34f820d2-1a9e-4a36-a7b6-d08890c34ed0"
      },
      "source": [
        "# Место для решения\n",
        "a = 2 ** 3\n",
        "b = 3 ** 2\n",
        "print (a, b)\n",
        "print (a == b)\n",
        "print (a > b)\n",
        "print (a < b)"
      ],
      "execution_count": 17,
      "outputs": [
        {
          "output_type": "stream",
          "text": [
            "8 9\n",
            "False\n",
            "False\n",
            "True\n"
          ],
          "name": "stdout"
        }
      ]
    },
    {
      "cell_type": "markdown",
      "metadata": {
        "id": "zGYhxvAYgwVg",
        "colab_type": "text"
      },
      "source": [
        "#### Задача 5\n",
        "\n",
        "Напишите логическое выражение для проверки попадания введенного числа в интервал от 0 до 10."
      ]
    },
    {
      "cell_type": "code",
      "metadata": {
        "id": "Zm54mA6AgwVj",
        "colab_type": "code",
        "colab": {
          "base_uri": "https://localhost:8080/",
          "height": 50
        },
        "outputId": "8b6a6de5-02d4-4fb7-f4c1-2aa64a1f5c40"
      },
      "source": [
        "# Место для решения\n",
        "value = int(input('Введите целое число:'))\n",
        "0 <= value <= 10\n"
      ],
      "execution_count": 19,
      "outputs": [
        {
          "output_type": "stream",
          "text": [
            "Введите число:7\n"
          ],
          "name": "stdout"
        },
        {
          "output_type": "execute_result",
          "data": {
            "text/plain": [
              "True"
            ]
          },
          "metadata": {
            "tags": []
          },
          "execution_count": 19
        }
      ]
    },
    {
      "cell_type": "markdown",
      "metadata": {
        "id": "AuZ5H20IgwVw",
        "colab_type": "text"
      },
      "source": [
        "\n",
        "### Условный оператор\n",
        "\n"
      ]
    },
    {
      "cell_type": "markdown",
      "metadata": {
        "id": "-O_f_ZXFgwV1",
        "colab_type": "text"
      },
      "source": [
        "Наиболее частое применение логические выражения находят в условных операторах.\n",
        "\n",
        "Синтаксис в питоне: <br />\n",
        "**if** условие_1:<br />\n",
        "&emsp; команды<br />\n",
        "**elif** условие_2:<br />\n",
        "&emsp; команды<br />\n",
        "**elif** условие_3:<br />\n",
        "&emsp; команды<br />\n",
        "&emsp; ... <br />\n",
        "**elif** условие_N:<br />\n",
        "&emsp; команды<br />\n",
        "**else**: <br />\n",
        "&emsp; команды<br />"
      ]
    },
    {
      "cell_type": "markdown",
      "metadata": {
        "id": "P4vrCBc1gwV4",
        "colab_type": "text"
      },
      "source": [
        "**Пример**"
      ]
    },
    {
      "cell_type": "code",
      "metadata": {
        "id": "UUmfDyKHgwV7",
        "colab_type": "code",
        "colab": {}
      },
      "source": [
        "x = 2 ** 3   # Создаем переменную x и присваиваем ей значение 2 ** 3\n",
        "y = 3 ** 2   # Создаем переменную y и присваиваем ей значение 3 ** 2\n",
        "\n",
        "if x > y: # Если x > y\n",
        "    print('X больше Y') # то вызываем функцию print, которая выведет фразу: 'X больше Y'\n",
        "    print(x - y) # И вызываем фугкцию print, которая выведет разность x и y\n",
        "else: # В противном случае (если x >= y)\n",
        "    print('') # Вызвываем функцию print, которая выведет пустую строку\n",
        "    print('Y не меньше, чем X') # и вызываем функцию print, которая выведет фразу: 'Y не меньше, чем X'"
      ],
      "execution_count": 0,
      "outputs": []
    },
    {
      "cell_type": "code",
      "metadata": {
        "id": "yS6ayadXgwWG",
        "colab_type": "code",
        "colab": {}
      },
      "source": [
        "x = int(input('Введите число X: ')) # Вызываем функцию input (просим пользователя ввести число X) и записываем введенные данные в переменную x (при этом преобразуем их к типу int)\n",
        "y = int(input('Введите число Y: ')) # Вызываем функцию input (просим пользователя ввести число Y) и записываем введенные данные в переменную y (при этом преобразуем их к типу int)\n",
        "\n",
        "if x > y: # Если x > y\n",
        "    print('X больше Y') # то вызываем функцию print, которая выведет фразу: 'X больше Y'\n",
        "    print('x - y = ', x - y) # И вызываем фугкцию print, которая выведет разность x и y\n",
        "elif y > x: # в противном случае, если y > x\n",
        "    print('Y больше X') # то вызываем функцию print, которая выведет фразу: 'Y больше X'\n",
        "    print('y - x = ', y - x) # И вызываем фугкцию print, которая выведет разность y и x\n",
        "else: # в противном случае (x равен y)\n",
        "    print('X равно Y') # вызываем функцию print, которая выведет фразу: 'X равно Y'"
      ],
      "execution_count": 0,
      "outputs": []
    },
    {
      "cell_type": "markdown",
      "metadata": {
        "id": "F-qHPYKcgwWO",
        "colab_type": "text"
      },
      "source": [
        "#### Задача 6\n",
        "Вас позвали на конференцию, которая будет проходить в другом городе, но времени до выезда осталось не так много. Напишите своим коллегам как можно быстрее, что вы думаете об этой идее. \n",
        "\n",
        "Если до вылета остается меньше 8 часов, то вы навряд ли успеете на самолет, так что должна появиться строчка \"К сожалению, я не успеваю!\", иначе - \"Ждите меня у входа в аэропорт\".\n"
      ]
    },
    {
      "cell_type": "code",
      "metadata": {
        "id": "i3UpP7FUgwWS",
        "colab_type": "code",
        "colab": {}
      },
      "source": [
        "# Место для решения\n"
      ],
      "execution_count": 0,
      "outputs": []
    },
    {
      "cell_type": "markdown",
      "metadata": {
        "id": "PeDoPl2ogwWb",
        "colab_type": "text"
      },
      "source": [
        "2) Вас позвали на конференцию, которая будет проходить в другом городе, но времени до выезда осталось не так много, к тому же вы не знаете, получится ли взять выходной. Необходимо проверить ближайшие рейсы и предупредить начальство. Напишите своим коллегам как можно быстрее, что вы думаете об этой идее. \n",
        "\n",
        "Если до вылета остается больше 8 часов, а до начальства вы не добрались, то напишите: \"Предупредите, пожалуйста, шефа о конференции\". Если вы успеваете везде, напишите: \"Ждите меня у входа в аэропорт\". В случае, когда остается меньше 8 часов и начальство не в курсе, то должна появиться строчка \"К сожалению, я не успеваю!\""
      ]
    },
    {
      "cell_type": "code",
      "metadata": {
        "id": "2zY9qp4hgwWe",
        "colab_type": "code",
        "colab": {}
      },
      "source": [
        "# Введите любое число\n",
        "hours = int(input('Время до вылета: '))\n",
        "# Введите да или нет\n",
        "boss = input('Начальство предупреждено? ')\n",
        "\n",
        "if hours > 8 and boss == 'да':\n",
        "    print(\"Ждите меня у входа в аэропорт\")\n",
        "    \n",
        "elif hours > 8 and boss == 'нет':\n",
        "    print(\"Предупредите, пожалуйста, шефа о конференции\")\n",
        "    \n",
        "else:\n",
        "    print(\"К сожалению, я не успеваю!\")"
      ],
      "execution_count": 0,
      "outputs": []
    },
    {
      "cell_type": "markdown",
      "metadata": {
        "id": "xevK5Jt3gwWn",
        "colab_type": "text"
      },
      "source": [
        "### Цикл while\n",
        "\n",
        "Циклические конструкции используются для многократного повторения одних и тех же действий. \n",
        "\n",
        "В цикле while команды выполняются до тех пор, пока некоторое заданное условие верно. При этом, если в теле цикла прямо не прописана процедура изменения переменной, заданной в условии, то получится бесконечный цикл.\n",
        "\n",
        "Структура цикла while:"
      ]
    },
    {
      "cell_type": "code",
      "metadata": {
        "id": "pGDlhkfFgwWp",
        "colab_type": "code",
        "colab": {}
      },
      "source": [
        "layers_num = 3 # Создаем переменную layers_num и записываем в нее значение 3\n",
        "\n",
        "while layers_num > 0: # Пока значение переменной layers_num > 0\n",
        "    print('Это многослойная сеть') # Вызываем функцию print, которая напечатает фразу 'Это многослойная сеть'\n",
        "    layers_num -=1 # Уменьшаем значение переменной layers_num на 1 (то же самое, что и layers_num = layers_num - 1)"
      ],
      "execution_count": 0,
      "outputs": []
    },
    {
      "cell_type": "markdown",
      "metadata": {
        "id": "Tb33DpKogwWy",
        "colab_type": "text"
      },
      "source": [
        "#### Задача 7\n",
        "\n",
        "По данному целому числу N распечатайте все квадраты натуральных чисел, не превосходящие N, в порядке возрастания. "
      ]
    },
    {
      "cell_type": "code",
      "metadata": {
        "id": "iBMSiAIngwW1",
        "colab_type": "code",
        "colab": {}
      },
      "source": [
        "# Место для решения\n"
      ],
      "execution_count": 0,
      "outputs": []
    },
    {
      "cell_type": "markdown",
      "metadata": {
        "id": "JhBN5yTfgwX4",
        "colab_type": "text"
      },
      "source": [
        "## Цикл for\n",
        "\n",
        "\n",
        "Команды в цикле for выполняются для заданного списка объектов и повторяются столько раз, сколько этих объектов.\n",
        "\n",
        "Дословно это работает так: \n",
        "\n",
        "*Питон, для каждого объекта из списка объектов выполни, пожалуйста, вот это действие* :)\n"
      ]
    },
    {
      "cell_type": "markdown",
      "metadata": {
        "id": "fmoNyACOgwW9",
        "colab_type": "text"
      },
      "source": [
        "### Функция range(n)\n",
        "\n",
        "Функция range выдает последовательность чисел в зависимости от заданных параметров.\n",
        "\n",
        "Синтаксис функции:"
      ]
    },
    {
      "cell_type": "code",
      "metadata": {
        "id": "NI6YLkmTgwXa",
        "colab_type": "code",
        "colab": {}
      },
      "source": [
        "for i in range(10): # Создаем цикл for, в котором переменная i поочередно будет принимать значения от 0 до 9\n",
        "    print(i) # Вызываем функцию print, которая выводит значение переменной i"
      ],
      "execution_count": 0,
      "outputs": []
    },
    {
      "cell_type": "code",
      "metadata": {
        "id": "999_SaIogwXi",
        "colab_type": "code",
        "colab": {}
      },
      "source": [
        "for i in range(3, 12): # Создаем цикл for, в котором переменная i поочередно будет принимать значения от 3 до 11\n",
        "    print(i) # Вызываем функцию print, которая выводит значение переменной i"
      ],
      "execution_count": 0,
      "outputs": []
    },
    {
      "cell_type": "code",
      "metadata": {
        "id": "IcqURdFzgwXw",
        "colab_type": "code",
        "colab": {}
      },
      "source": [
        "for i in range(3, 12, 2): # Создаем цикл for, в котором переменная i поочередно будет принимать значения от 3 до 11 c шагом 2\n",
        "    print(i) # Вызываем функцию print, которая выводит значение переменной i"
      ],
      "execution_count": 0,
      "outputs": []
    },
    {
      "cell_type": "code",
      "metadata": {
        "id": "DmWsBm7FgwYG",
        "colab_type": "code",
        "colab": {}
      },
      "source": [
        "for i in range(1, 5): # Создаем цикл for, в котором переменная i поочередно будет принимать значения от 1 до 4\n",
        "    print(i) # Вызываем функцию print, которая выводит значение переменной i"
      ],
      "execution_count": 0,
      "outputs": []
    },
    {
      "cell_type": "code",
      "metadata": {
        "id": "M7DIvHykgwYO",
        "colab_type": "code",
        "colab": {}
      },
      "source": [
        "for animal in ['кошка', 'собака', 'енот', 'лиса']: # Создаем цикл for, в котором переменная animal поочередно будет принимать значения из последовательности 'кошка', 'собака', 'енот', 'лиса' \n",
        "    print(animal) # Вызываем функцию print, которая выводит значение переменной animal"
      ],
      "execution_count": 0,
      "outputs": []
    },
    {
      "cell_type": "markdown",
      "metadata": {
        "id": "MMCf4bodgwYW",
        "colab_type": "text"
      },
      "source": [
        "#### Задача 8\n",
        "\n",
        "По данному целому числу N распечатайте все квадраты натуральных чисел, не превосходящие N, в порядке возрастания с использованием цикла for"
      ]
    },
    {
      "cell_type": "code",
      "metadata": {
        "id": "H8pDdN-GgwYZ",
        "colab_type": "code",
        "colab": {}
      },
      "source": [
        "# Место для решения\n"
      ],
      "execution_count": 0,
      "outputs": []
    },
    {
      "cell_type": "markdown",
      "metadata": {
        "id": "PvHZCrnHgwYe",
        "colab_type": "text"
      },
      "source": [
        "## Базовые структуры"
      ]
    },
    {
      "cell_type": "markdown",
      "metadata": {
        "id": "0GdbykDOgwYh",
        "colab_type": "text"
      },
      "source": [
        "### Список (list)\n",
        "\n",
        "\n",
        "Среди наших коллег провели опрос о том, какие ассоциации вызывает каждое из времен года. Итог опроса показал среди топовых ассоциаций следующие:"
      ]
    },
    {
      "cell_type": "code",
      "metadata": {
        "id": "2OvlHymVgwYj",
        "colab_type": "code",
        "colab": {}
      },
      "source": [
        "zima = 'снег' # Создаем переменную zima и записываем в нее значение 'снег'\n",
        "vesna = 'солнце' # Создаем переменную vesna и записываем в нее значение 'солнце'\n",
        "leto = 'фрукты' # Создаем переменную leto и записываем в нее значение 'фрукты' \n",
        "osen = 'листья' # Создаем переменную osen и записываем в нее значение 'листья'"
      ],
      "execution_count": 0,
      "outputs": []
    },
    {
      "cell_type": "markdown",
      "metadata": {
        "id": "MM65W2uagwYr",
        "colab_type": "text"
      },
      "source": [
        "Но это не очень удобно, можно хранить всю информацию в одной переменной:"
      ]
    },
    {
      "cell_type": "code",
      "metadata": {
        "id": "2p1MUbH-gwYw",
        "colab_type": "code",
        "colab": {}
      },
      "source": [
        "associations = ['снег', 'солнце', 'фрукты', 'листья'] # Создаем список значений\n",
        "print(associations) # Вызываем функцию print, которая выводит значения списка associations"
      ],
      "execution_count": 0,
      "outputs": []
    },
    {
      "cell_type": "code",
      "metadata": {
        "id": "yNf_zRUagwY9",
        "colab_type": "code",
        "colab": {}
      },
      "source": [
        "a1 = list() # Создаем пустой список a1\n",
        "a2 = [] # Создаем пустой список a2\n",
        "print(a1) # Вызываем функцию print, которая выводит значения списка a1\n",
        "print(a2) # Вызываем функцию print, которая выводит значения списка a2"
      ],
      "execution_count": 0,
      "outputs": []
    },
    {
      "cell_type": "markdown",
      "metadata": {
        "id": "A5S8XYMWgwZK",
        "colab_type": "text"
      },
      "source": [
        "В списке можно хранить информацию разных типов:"
      ]
    },
    {
      "cell_type": "code",
      "metadata": {
        "id": "fFThzCDJgwZP",
        "colab_type": "code",
        "colab": {}
      },
      "source": [
        "my_list = [20, 'город', 0.45, 2 + 3j] # Создаем список из элементов различных типов\n",
        "print(my_list) # Вызываем функцию print, которая выводит значения списка my_list "
      ],
      "execution_count": 0,
      "outputs": []
    },
    {
      "cell_type": "markdown",
      "metadata": {
        "id": "-1MoM-fmgwZq",
        "colab_type": "text"
      },
      "source": [
        "К элементам списка можно обращаться по индексу:"
      ]
    },
    {
      "cell_type": "code",
      "metadata": {
        "id": "BcnWkEjKgwZt",
        "colab_type": "code",
        "colab": {}
      },
      "source": [
        "associations[0]  # Вызываем функцию print, которая выводит значение 0-го элемента списка associations"
      ],
      "execution_count": 0,
      "outputs": []
    },
    {
      "cell_type": "code",
      "metadata": {
        "id": "gmPn6llugwZ7",
        "colab_type": "code",
        "colab": {}
      },
      "source": [
        "for el in range(-4, 0): # Создаем цикл for, в котором переменная el поочередно будет принимать значения от -4 до -1\n",
        "    print('Это значение индекса: {}, а это элемент списка: {}'.format(el, associations[el])) # Вызываем функцию print, которая выводит значение переменной el и значение элемента списка associations с индексом el"
      ],
      "execution_count": 0,
      "outputs": []
    },
    {
      "cell_type": "markdown",
      "metadata": {
        "id": "rit6BDDjgwaR",
        "colab_type": "text"
      },
      "source": [
        "Листы можно итерировать естественным способом:"
      ]
    },
    {
      "cell_type": "code",
      "metadata": {
        "id": "M55XfsD_gwaV",
        "colab_type": "code",
        "colab": {}
      },
      "source": [
        "for a in associations: # Создаем цикл for, в котором переменная a поочередно будет принимать значения из списка associations\n",
        "    print(a)  # Вызываем функцию print, которая выводит значение элемента списка associations с индексом a"
      ],
      "execution_count": 0,
      "outputs": []
    },
    {
      "cell_type": "code",
      "metadata": {
        "id": "e9fq9rpbgwaj",
        "colab_type": "code",
        "colab": {}
      },
      "source": [
        "for i in range(4): # Создаем цикл for, в котором переменная i поочередно будет принимать значения от 0 до 3\n",
        "    print(associations[i]) # Вызываем функцию print, которая выводит значение элемента списка associations с индексом i"
      ],
      "execution_count": 0,
      "outputs": []
    },
    {
      "cell_type": "markdown",
      "metadata": {
        "id": "sqlmOkdkgwax",
        "colab_type": "text"
      },
      "source": [
        "А еще бывает лист из листов :)"
      ]
    },
    {
      "cell_type": "code",
      "metadata": {
        "id": "WjloaOG5gwa1",
        "colab_type": "code",
        "colab": {}
      },
      "source": [
        "associations = [['Зима', 'снег'], ['Весна', 'солнце'], ['Лето', 'фрукты'], ['Осень', 'листья']] # Создаем список, элементы которого также являются списками\n",
        "print(associations) # Вызываем функцию print, которая выводит список associations"
      ],
      "execution_count": 0,
      "outputs": []
    },
    {
      "cell_type": "code",
      "metadata": {
        "id": "a3q8tHS0gwbH",
        "colab_type": "code",
        "colab": {}
      },
      "source": [
        "for el in associations: # Создаем цикл for, в котором переменная el поочередно будет принимать значения из списка associations\n",
        "    print('время года: {}, ассоциация: {}'.format(el[0], el[1])) # Вызываем функцию print, которая выводит 0-е и 1-е значение элемента el"
      ],
      "execution_count": 0,
      "outputs": []
    },
    {
      "cell_type": "markdown",
      "metadata": {
        "id": "67xaUWLfgwbW",
        "colab_type": "text"
      },
      "source": [
        "**Есть много методов, т.е. функций, которые присущи только листам, для работы с листами:**\n",
        "\n",
        "Методы\n",
        "- list.append(x)\tДобавляет элемент в конец списка\n",
        "- list.extend(L)\tРасширяет список list, добавляя в конец все элементы списка L\n",
        "- list.insert(i, x)\tВставляет на i-ый элемент значение x\n",
        "- list.remove(x)\tУдаляет первый элемент в списке, имеющий значение x ValueError, если такого элемента не существует\n",
        "- list.pop([i])\tУдаляет i-ый элемент и возвращает его. Если индекс не указан, удаляется последний элемент\n",
        "- list.index(x, [start [, end]])\tВозвращает положение первого элемента со значением x (при этом поиск ведется от start до end)\n",
        "- list.count(x)\tВозвращает количество элементов со значением x\n",
        "- list.sort([key=функция])\tСортирует список на основе функции\n",
        "- list.reverse()\tРазворачивает список\n",
        "- list.copy()\tПоверхностная копия списка\n",
        "- list.clear()\tОчищает список"
      ]
    },
    {
      "cell_type": "code",
      "metadata": {
        "id": "ZC3pdUfYwz2D",
        "colab_type": "code",
        "colab": {}
      },
      "source": [
        ""
      ],
      "execution_count": 0,
      "outputs": []
    },
    {
      "cell_type": "markdown",
      "metadata": {
        "id": "nwUS_syNgwbb",
        "colab_type": "text"
      },
      "source": [
        "### Словарь (dict)\n",
        "\n"
      ]
    },
    {
      "cell_type": "code",
      "metadata": {
        "id": "IF8Gv06cgwbi",
        "colab_type": "code",
        "colab": {}
      },
      "source": [
        "my_dict = {'Зима' : 'снег', \n",
        "           'Весна' : 'солнце', \n",
        "           'Лето' : 'фрукты',\n",
        "           'Осень' : 'листья'\n",
        "          } # Создаем словарь значение"
      ],
      "execution_count": 0,
      "outputs": []
    },
    {
      "cell_type": "code",
      "metadata": {
        "id": "flbOO3T5gwbt",
        "colab_type": "code",
        "colab": {}
      },
      "source": [
        "my_dict # Отображаем созданный словарь"
      ],
      "execution_count": 0,
      "outputs": []
    },
    {
      "cell_type": "markdown",
      "metadata": {
        "id": "V0B7zsKvgwb6",
        "colab_type": "text"
      },
      "source": [
        "У словаря есть 'ключи' и 'значения':"
      ]
    },
    {
      "cell_type": "code",
      "metadata": {
        "id": "KUv7u7Nqgwb-",
        "colab_type": "code",
        "colab": {}
      },
      "source": [
        "my_dict.keys() # Вызываем метод .keys(), который вернет набор ключей словаря"
      ],
      "execution_count": 0,
      "outputs": []
    },
    {
      "cell_type": "code",
      "metadata": {
        "id": "F6NZUOOUgwcI",
        "colab_type": "code",
        "colab": {}
      },
      "source": [
        "my_dict.values() # Вызываем метод .keys(), который вернет набор значений словаря"
      ],
      "execution_count": 0,
      "outputs": []
    },
    {
      "cell_type": "code",
      "metadata": {
        "id": "rN6zjMacgwcZ",
        "colab_type": "code",
        "colab": {}
      },
      "source": [
        "my_dict.items() # Вызываем метод .items(), который вернет набор пар: ключ-значение"
      ],
      "execution_count": 0,
      "outputs": []
    },
    {
      "cell_type": "code",
      "metadata": {
        "id": "wQVjLPswgwcu",
        "colab_type": "code",
        "colab": {}
      },
      "source": [
        "my_dict['Зима'] # Получаем значение элемента словаря с ключом 'Зима'"
      ],
      "execution_count": 0,
      "outputs": []
    },
    {
      "cell_type": "code",
      "metadata": {
        "id": "77YpzTwGgwdE",
        "colab_type": "code",
        "colab": {}
      },
      "source": [
        "element = my_dict.pop('Зима') # Удаляем из словаря элемент с ключом 'Зима' и записываем значение по этому ключу в переменную element\n",
        "print(element) # Вызываем функцию print, которая выводит значение переменной element\n",
        "print(my_dict) # Вызываем функцию print, которая выводит словарь my_dict"
      ],
      "execution_count": 0,
      "outputs": []
    },
    {
      "cell_type": "markdown",
      "metadata": {
        "id": "2DYiGluPkolk",
        "colab_type": "text"
      },
      "source": [
        "# **Глоссарий**\n",
        "\n",
        "*Функции (из коробки):*\n",
        "\n",
        "**print()** - вывод на экран\n",
        "\n",
        "**input()** - ввод с клавиатуры\n",
        "\n",
        "**len()** - длина объекта\n",
        "\n",
        "**range()** - диапазон чисел\n",
        "\n",
        "\n",
        "*Основные типы данных:*\n",
        "\n",
        "\n",
        "**int** - целые числа (7)\n",
        "\n",
        "**float** - числа с плавающей точкой (7.0)\n",
        "\n",
        "**string** - строковые данные ('строка')\n",
        "\n",
        "**bool** - булевы данные (True/False)\n",
        "\n"
      ]
    },
    {
      "cell_type": "markdown",
      "metadata": {
        "id": "VgEvT2a_oqNR",
        "colab_type": "text"
      },
      "source": [
        "*Базовые структуры данных:*\n",
        "\n",
        "**list** - структура, предназначенная для хранения данных разных типов. \n",
        "> преобразовать объект в список **list()**\n",
        "\n",
        "**set** - множество - похож на список с разницей, что в нем не может быть повторяющихся элементов. Т.е., если список может быть [1,2,2], то множество будет (1,2).\n",
        "> преобразовать объект в множество/создать пустое множество **set()**\n",
        "\n",
        "**tuple** - кортеж - похож на список с разницей, что в него нельзя добавить новые элементы.\n",
        "> преобразовать объект в кортеж/создать новый кортеж **tuple()**\n",
        "\n",
        "**dict** - структура, предназначенная для хранения данных разных типов, при этом организована по типу ключа-значение.\n",
        "> преобразовать в словарь/ создать новый словарь {КЛЮЧ:ЗНАЧЕНИЕ}\n",
        "\n",
        "\n"
      ]
    },
    {
      "cell_type": "markdown",
      "metadata": {
        "id": "X8PXt3JIoCIf",
        "colab_type": "text"
      },
      "source": [
        "# Краткий гайд по обозначениям в Python\n",
        "\n",
        "Если это...\n",
        "\n",
        "[ ] - список\n",
        "\n",
        "( ) - кортеж \n",
        "\n",
        "{ } - словарь \n",
        "\n",
        "----------------\n",
        "\n",
        "[ [ ], [ ] ] - список списков\n",
        "\n",
        "[ ( ) , ( ) ] - список кортежей\n",
        "\n",
        "[ { } , { } ] - список словарей\n",
        "\n",
        "----------------\n",
        "( [ ] , [ ] ) - кортеж из списков\n",
        "\n",
        "( ( ) , ( ) ) - котреж из кортежей\n",
        "\n",
        "( { } , { } ) - кортеж из словарей\n",
        "\n",
        "----------------\n",
        "{ключ:[значение]} - словарь и значение представлено в виде списка\n",
        "{ключ: ()} - словарь и значение представлено в виде кортежа\n",
        "\n",
        ".() - функция/метод \n",
        "\n",
        "Пример: \n",
        "\n",
        "         a = [5, 2, 3, 1, 4]\n",
        "        \n",
        "         a.sort() # вызываем функцию сортировки\n",
        "\n",
        "         >>>>[1, 2, 3, 4, 5]\n",
        "\n",
        ".- атрибут объекта\n",
        "\n",
        "        array.shape\n",
        "\n",
        "\n",
        "А если так, то...\n",
        "\n",
        "a[ ] - вытащить значение под конкретным индексом. **а** является в этом случае итерируемым объектом (объект, в котором есть другие объекты)\n",
        "\n",
        "a( ) - вызвать функцию (если необходимы параметры, то указываются в скобках)\n",
        "\n"
      ]
    }
  ]
}